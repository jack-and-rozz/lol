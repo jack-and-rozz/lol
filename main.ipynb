{
 "cells": [
  {
   "cell_type": "markdown",
   "metadata": {},
   "source": [
    "#### main"
   ]
  },
  {
   "cell_type": "code",
   "execution_count": 1,
   "metadata": {},
   "outputs": [],
   "source": [
    "%load_ext autoreload\n",
    "%autoreload 2"
   ]
  },
  {
   "cell_type": "code",
   "execution_count": 2,
   "metadata": {},
   "outputs": [],
   "source": [
    "import sys\n",
    "import tensorflow as tf\n",
    "from main import ExperimentManager, get_parser\n"
   ]
  },
  {
   "cell_type": "code",
   "execution_count": 3,
   "metadata": {},
   "outputs": [],
   "source": [
    "# Setup args.\n",
    "parser = get_parser()\n",
    "ROOT = '.'\n",
    "#args = [ROOT + '/checkpoints/tmp', 'demo', '-ct=tmp', '--cleanup=T']\n",
    "args = [ROOT + '/checkpoints/demo', 'demo',]\n",
    "args = parser.parse_args(args=args)\n",
    "\n",
    "# Create session.\n",
    "sess = tf.InteractiveSession()"
   ]
  },
  {
   "cell_type": "code",
   "execution_count": 4,
   "metadata": {},
   "outputs": [
    {
     "name": "stderr",
     "output_type": "stream",
     "text": [
      "Found an existing config file, './checkpoints/demo/main.conf'.\n",
      "{'trainer': {'optimizer': {'optimizer_type': 'AdamOptimizer', 'max_gradient_norm': 1.0, 'learning_rate': 0.0001, 'decay_rate_per_epoch': 0.75}, 'max_to_keep': 1, 'max_epoch': 30, 'dropout_rate': 0.2, 'lexical_dropout_rate': 0.0, 'trainer_type': 'MultiGPUTrainer'}, 'vocab': {'champion': {'vocab_type': 'ChampionVocabulary', 'vocab_path': 'dataset/lol/static-latest/data/ja_JP/champion.json', 'vocab_size': 0, 'trainable': True, 'pad_token': '</s>', 'unk_token': '<unk>'}}, 'tasks': {'winrate': {'loss_weight': 1.0, 'batch_size': 128, 'dataset': {'filename': {'train': 'train.jsonlines', 'valid': 'valid.jsonlines', 'test': 'test.jsonlines'}, 'iterations_per_epoch': 0, 'max_rows': {'train': 0, 'valid': 0, 'test': 0}, 'minlen': {'train': {}, 'test': {}}, 'maxlen': {'train': {}, 'test': {}}, 'dataset_type': 'LoLmatchDataset', 'source_dir': 'dataset/lol/match'}, 'model_type': 'WinrateEstimater', 'num_ffnn_layers': 3, 'emb_size': {'champion': 200, 'role': 50}}}}\n",
      "[INFO] 2019-02-24 18:58:43 - __init__: 0.061397 sec\n"
     ]
    },
    {
     "name": "stdout",
     "output_type": "stream",
     "text": [
      "{'loss_weight': 1.0, 'batch_size': 128, 'dataset': {'filename': {'train': 'train.jsonlines', 'valid': 'valid.jsonlines', 'test': 'test.jsonlines'}, 'iterations_per_epoch': 0, 'max_rows': {'train': 0, 'valid': 0, 'test': 0}, 'minlen': {'train': {}, 'test': {}}, 'maxlen': {'train': {}, 'test': {}}, 'dataset_type': 'LoLmatchDataset', 'source_dir': 'dataset/lol/match'}, 'model_type': 'WinrateEstimater', 'num_ffnn_layers': 3, 'emb_size': {'champion': 200, 'role': 50}}\n"
     ]
    }
   ],
   "source": [
    "with tf.variable_scope('', reuse=tf.AUTO_REUSE):\n",
    "    manager = ExperimentManager(args, sess)\n"
   ]
  },
  {
   "cell_type": "code",
   "execution_count": 39,
   "metadata": {},
   "outputs": [
    {
     "name": "stderr",
     "output_type": "stream",
     "text": [
      "[INFO] 2019-02-24 19:16:14 - create_model: 0.000046 sec\n",
      "         Role   Pick Ban    Win\n",
      "Team                           \n",
      "BLUE      ADC  Teemo       True\n",
      "BLUE  SUPPORT  Teemo       True\n",
      "BLUE   JUNGLE  Teemo       True\n",
      "BLUE   MIDDLE  Teemo       True\n",
      "BLUE      TOP  Teemo       True\n",
      "RED       ADC  Teemo      False\n",
      "RED   SUPPORT  Teemo      False\n",
      "RED    JUNGLE  Teemo      False\n",
      "RED    MIDDLE  Teemo      False\n",
      "RED       TOP  Teemo      False\n",
      "Winrate Estimation (BLUE, RED):\t [0.73017204 0.26982793]\n",
      "---------------------------------------\n",
      "\n"
     ]
    }
   ],
   "source": [
    "#picks = ['Lucian', 'Nami', 'XinZhao', 'Leblanc', 'DrMundo'] + ['Ashe', 'Sona', 'Ivern', 'Fizz', 'Teemo']\n",
    "picks = ['Lucian', 'Nami', 'XinZhao', 'Leblanc', 'DrMundo'] + ['Ashe', 'Sona', 'Ivern', 'Fizz', 'Teemo']\n",
    "\n",
    "#picks = ['Teemo'] * 5 + \n",
    "roles = ['ADC', 'SUPPORT', 'JUNGLE', 'MIDDLE', 'TOP'] + ['ADC', 'SUPPORT', 'JUNGLE', 'MIDDLE', 'TOP']\n",
    "bans = ['' for _ in range(10)]\n",
    "\n",
    "manager.demo('winrate', roles, picks, bans)\n",
    "sys.stdout.flush()"
   ]
  },
  {
   "cell_type": "code",
   "execution_count": null,
   "metadata": {},
   "outputs": [],
   "source": []
  }
 ],
 "metadata": {
  "kernelspec": {
   "display_name": "Python 3",
   "language": "python",
   "name": "python3"
  },
  "language_info": {
   "codemirror_mode": {
    "name": "ipython",
    "version": 3
   },
   "file_extension": ".py",
   "mimetype": "text/x-python",
   "name": "python",
   "nbconvert_exporter": "python",
   "pygments_lexer": "ipython3",
   "version": "3.6.0"
  }
 },
 "nbformat": 4,
 "nbformat_minor": 2
}
